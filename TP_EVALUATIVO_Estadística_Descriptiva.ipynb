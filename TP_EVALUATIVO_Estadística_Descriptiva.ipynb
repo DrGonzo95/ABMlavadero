{
  "nbformat": 4,
  "nbformat_minor": 0,
  "metadata": {
    "colab": {
      "provenance": [],
      "authorship_tag": "ABX9TyMdGrum6IlW1P5ufWHg0ob1",
      "include_colab_link": true
    },
    "kernelspec": {
      "name": "python3",
      "display_name": "Python 3"
    },
    "language_info": {
      "name": "python"
    }
  },
  "cells": [
    {
      "cell_type": "markdown",
      "metadata": {
        "id": "view-in-github",
        "colab_type": "text"
      },
      "source": [
        "<a href=\"https://colab.research.google.com/github/DrGonzo95/ABMlavadero/blob/main/TP_EVALUATIVO_Estad%C3%ADstica_Descriptiva.ipynb\" target=\"_parent\"><img src=\"https://colab.research.google.com/assets/colab-badge.svg\" alt=\"Open In Colab\"/></a>"
      ]
    },
    {
      "cell_type": "markdown",
      "source": [
        "Documento Final\n",
        "El documento final contendrá:\n",
        "\n",
        "Introducción:\n",
        "\n",
        "Descripción del conjunto de datos.\n",
        "Objetivos del análisis.\n",
        "Análisis Descriptivo:\n",
        "\n",
        "Estadísticas y visualizaciones del saldo medio anual.\n",
        "Interpretación de los resultados.\n",
        "Validación de Argumentaciones:\n",
        "\n",
        "Evaluación y justificación para cada una de las argumentaciones proporcionadas.\n",
        "Conclusiones:\n",
        "\n",
        "Resumen de los hallazgos principales.\n",
        "Recomendaciones basadas en el análisis.\n",
        "Podemos utilizar un Jupyter Notebook en Google Colab para presentar todo el trabajo, incluyendo texto, código y visualizaciones de manera organizada."
      ],
      "metadata": {
        "id": "S8BodSZNuLVE"
      }
    },
    {
      "cell_type": "code",
      "execution_count": 3,
      "metadata": {
        "colab": {
          "base_uri": "https://localhost:8080/",
          "height": 561
        },
        "id": "njaIpksMkrI5",
        "outputId": "6f118bf7-8416-4cb2-d256-06e2f3432c71"
      },
      "outputs": [
        {
          "output_type": "stream",
          "name": "stdout",
          "text": [
            "<class 'pandas.core.frame.DataFrame'>\n",
            "RangeIndex: 41188 entries, 0 to 41187\n",
            "Data columns (total 8 columns):\n",
            " #   Column           Non-Null Count  Dtype \n",
            "---  ------           --------------  ----- \n",
            " 0   Edad             41188 non-null  int64 \n",
            " 1   Trabajo          41188 non-null  object\n",
            " 2   EstadoCivil      41188 non-null  object\n",
            " 3   Incumplimiento   41188 non-null  object\n",
            " 4   Contacto         41188 non-null  object\n",
            " 5   Mes              41188 non-null  object\n",
            " 6   Dia              41188 non-null  object\n",
            " 7   SaldoMedioAnual  41188 non-null  int64 \n",
            "dtypes: int64(2), object(6)\n",
            "memory usage: 2.5+ MB\n"
          ]
        },
        {
          "output_type": "execute_result",
          "data": {
            "text/plain": [
              "              Edad  SaldoMedioAnual\n",
              "count  41188.00000     41188.000000\n",
              "mean      40.02406       258.285010\n",
              "std       10.42125       259.279249\n",
              "min       17.00000         0.000000\n",
              "25%       32.00000       102.000000\n",
              "50%       38.00000       180.000000\n",
              "75%       47.00000       319.000000\n",
              "max       98.00000      4918.000000"
            ],
            "text/html": [
              "\n",
              "  <div id=\"df-b9872396-a6bb-4a53-9ada-6fde5efe9db8\" class=\"colab-df-container\">\n",
              "    <div>\n",
              "<style scoped>\n",
              "    .dataframe tbody tr th:only-of-type {\n",
              "        vertical-align: middle;\n",
              "    }\n",
              "\n",
              "    .dataframe tbody tr th {\n",
              "        vertical-align: top;\n",
              "    }\n",
              "\n",
              "    .dataframe thead th {\n",
              "        text-align: right;\n",
              "    }\n",
              "</style>\n",
              "<table border=\"1\" class=\"dataframe\">\n",
              "  <thead>\n",
              "    <tr style=\"text-align: right;\">\n",
              "      <th></th>\n",
              "      <th>Edad</th>\n",
              "      <th>SaldoMedioAnual</th>\n",
              "    </tr>\n",
              "  </thead>\n",
              "  <tbody>\n",
              "    <tr>\n",
              "      <th>count</th>\n",
              "      <td>41188.00000</td>\n",
              "      <td>41188.000000</td>\n",
              "    </tr>\n",
              "    <tr>\n",
              "      <th>mean</th>\n",
              "      <td>40.02406</td>\n",
              "      <td>258.285010</td>\n",
              "    </tr>\n",
              "    <tr>\n",
              "      <th>std</th>\n",
              "      <td>10.42125</td>\n",
              "      <td>259.279249</td>\n",
              "    </tr>\n",
              "    <tr>\n",
              "      <th>min</th>\n",
              "      <td>17.00000</td>\n",
              "      <td>0.000000</td>\n",
              "    </tr>\n",
              "    <tr>\n",
              "      <th>25%</th>\n",
              "      <td>32.00000</td>\n",
              "      <td>102.000000</td>\n",
              "    </tr>\n",
              "    <tr>\n",
              "      <th>50%</th>\n",
              "      <td>38.00000</td>\n",
              "      <td>180.000000</td>\n",
              "    </tr>\n",
              "    <tr>\n",
              "      <th>75%</th>\n",
              "      <td>47.00000</td>\n",
              "      <td>319.000000</td>\n",
              "    </tr>\n",
              "    <tr>\n",
              "      <th>max</th>\n",
              "      <td>98.00000</td>\n",
              "      <td>4918.000000</td>\n",
              "    </tr>\n",
              "  </tbody>\n",
              "</table>\n",
              "</div>\n",
              "    <div class=\"colab-df-buttons\">\n",
              "\n",
              "  <div class=\"colab-df-container\">\n",
              "    <button class=\"colab-df-convert\" onclick=\"convertToInteractive('df-b9872396-a6bb-4a53-9ada-6fde5efe9db8')\"\n",
              "            title=\"Convert this dataframe to an interactive table.\"\n",
              "            style=\"display:none;\">\n",
              "\n",
              "  <svg xmlns=\"http://www.w3.org/2000/svg\" height=\"24px\" viewBox=\"0 -960 960 960\">\n",
              "    <path d=\"M120-120v-720h720v720H120Zm60-500h600v-160H180v160Zm220 220h160v-160H400v160Zm0 220h160v-160H400v160ZM180-400h160v-160H180v160Zm440 0h160v-160H620v160ZM180-180h160v-160H180v160Zm440 0h160v-160H620v160Z\"/>\n",
              "  </svg>\n",
              "    </button>\n",
              "\n",
              "  <style>\n",
              "    .colab-df-container {\n",
              "      display:flex;\n",
              "      gap: 12px;\n",
              "    }\n",
              "\n",
              "    .colab-df-convert {\n",
              "      background-color: #E8F0FE;\n",
              "      border: none;\n",
              "      border-radius: 50%;\n",
              "      cursor: pointer;\n",
              "      display: none;\n",
              "      fill: #1967D2;\n",
              "      height: 32px;\n",
              "      padding: 0 0 0 0;\n",
              "      width: 32px;\n",
              "    }\n",
              "\n",
              "    .colab-df-convert:hover {\n",
              "      background-color: #E2EBFA;\n",
              "      box-shadow: 0px 1px 2px rgba(60, 64, 67, 0.3), 0px 1px 3px 1px rgba(60, 64, 67, 0.15);\n",
              "      fill: #174EA6;\n",
              "    }\n",
              "\n",
              "    .colab-df-buttons div {\n",
              "      margin-bottom: 4px;\n",
              "    }\n",
              "\n",
              "    [theme=dark] .colab-df-convert {\n",
              "      background-color: #3B4455;\n",
              "      fill: #D2E3FC;\n",
              "    }\n",
              "\n",
              "    [theme=dark] .colab-df-convert:hover {\n",
              "      background-color: #434B5C;\n",
              "      box-shadow: 0px 1px 3px 1px rgba(0, 0, 0, 0.15);\n",
              "      filter: drop-shadow(0px 1px 2px rgba(0, 0, 0, 0.3));\n",
              "      fill: #FFFFFF;\n",
              "    }\n",
              "  </style>\n",
              "\n",
              "    <script>\n",
              "      const buttonEl =\n",
              "        document.querySelector('#df-b9872396-a6bb-4a53-9ada-6fde5efe9db8 button.colab-df-convert');\n",
              "      buttonEl.style.display =\n",
              "        google.colab.kernel.accessAllowed ? 'block' : 'none';\n",
              "\n",
              "      async function convertToInteractive(key) {\n",
              "        const element = document.querySelector('#df-b9872396-a6bb-4a53-9ada-6fde5efe9db8');\n",
              "        const dataTable =\n",
              "          await google.colab.kernel.invokeFunction('convertToInteractive',\n",
              "                                                    [key], {});\n",
              "        if (!dataTable) return;\n",
              "\n",
              "        const docLinkHtml = 'Like what you see? Visit the ' +\n",
              "          '<a target=\"_blank\" href=https://colab.research.google.com/notebooks/data_table.ipynb>data table notebook</a>'\n",
              "          + ' to learn more about interactive tables.';\n",
              "        element.innerHTML = '';\n",
              "        dataTable['output_type'] = 'display_data';\n",
              "        await google.colab.output.renderOutput(dataTable, element);\n",
              "        const docLink = document.createElement('div');\n",
              "        docLink.innerHTML = docLinkHtml;\n",
              "        element.appendChild(docLink);\n",
              "      }\n",
              "    </script>\n",
              "  </div>\n",
              "\n",
              "\n",
              "<div id=\"df-a04be7b3-9cb9-41a5-a358-d94dc05dc469\">\n",
              "  <button class=\"colab-df-quickchart\" onclick=\"quickchart('df-a04be7b3-9cb9-41a5-a358-d94dc05dc469')\"\n",
              "            title=\"Suggest charts\"\n",
              "            style=\"display:none;\">\n",
              "\n",
              "<svg xmlns=\"http://www.w3.org/2000/svg\" height=\"24px\"viewBox=\"0 0 24 24\"\n",
              "     width=\"24px\">\n",
              "    <g>\n",
              "        <path d=\"M19 3H5c-1.1 0-2 .9-2 2v14c0 1.1.9 2 2 2h14c1.1 0 2-.9 2-2V5c0-1.1-.9-2-2-2zM9 17H7v-7h2v7zm4 0h-2V7h2v10zm4 0h-2v-4h2v4z\"/>\n",
              "    </g>\n",
              "</svg>\n",
              "  </button>\n",
              "\n",
              "<style>\n",
              "  .colab-df-quickchart {\n",
              "      --bg-color: #E8F0FE;\n",
              "      --fill-color: #1967D2;\n",
              "      --hover-bg-color: #E2EBFA;\n",
              "      --hover-fill-color: #174EA6;\n",
              "      --disabled-fill-color: #AAA;\n",
              "      --disabled-bg-color: #DDD;\n",
              "  }\n",
              "\n",
              "  [theme=dark] .colab-df-quickchart {\n",
              "      --bg-color: #3B4455;\n",
              "      --fill-color: #D2E3FC;\n",
              "      --hover-bg-color: #434B5C;\n",
              "      --hover-fill-color: #FFFFFF;\n",
              "      --disabled-bg-color: #3B4455;\n",
              "      --disabled-fill-color: #666;\n",
              "  }\n",
              "\n",
              "  .colab-df-quickchart {\n",
              "    background-color: var(--bg-color);\n",
              "    border: none;\n",
              "    border-radius: 50%;\n",
              "    cursor: pointer;\n",
              "    display: none;\n",
              "    fill: var(--fill-color);\n",
              "    height: 32px;\n",
              "    padding: 0;\n",
              "    width: 32px;\n",
              "  }\n",
              "\n",
              "  .colab-df-quickchart:hover {\n",
              "    background-color: var(--hover-bg-color);\n",
              "    box-shadow: 0 1px 2px rgba(60, 64, 67, 0.3), 0 1px 3px 1px rgba(60, 64, 67, 0.15);\n",
              "    fill: var(--button-hover-fill-color);\n",
              "  }\n",
              "\n",
              "  .colab-df-quickchart-complete:disabled,\n",
              "  .colab-df-quickchart-complete:disabled:hover {\n",
              "    background-color: var(--disabled-bg-color);\n",
              "    fill: var(--disabled-fill-color);\n",
              "    box-shadow: none;\n",
              "  }\n",
              "\n",
              "  .colab-df-spinner {\n",
              "    border: 2px solid var(--fill-color);\n",
              "    border-color: transparent;\n",
              "    border-bottom-color: var(--fill-color);\n",
              "    animation:\n",
              "      spin 1s steps(1) infinite;\n",
              "  }\n",
              "\n",
              "  @keyframes spin {\n",
              "    0% {\n",
              "      border-color: transparent;\n",
              "      border-bottom-color: var(--fill-color);\n",
              "      border-left-color: var(--fill-color);\n",
              "    }\n",
              "    20% {\n",
              "      border-color: transparent;\n",
              "      border-left-color: var(--fill-color);\n",
              "      border-top-color: var(--fill-color);\n",
              "    }\n",
              "    30% {\n",
              "      border-color: transparent;\n",
              "      border-left-color: var(--fill-color);\n",
              "      border-top-color: var(--fill-color);\n",
              "      border-right-color: var(--fill-color);\n",
              "    }\n",
              "    40% {\n",
              "      border-color: transparent;\n",
              "      border-right-color: var(--fill-color);\n",
              "      border-top-color: var(--fill-color);\n",
              "    }\n",
              "    60% {\n",
              "      border-color: transparent;\n",
              "      border-right-color: var(--fill-color);\n",
              "    }\n",
              "    80% {\n",
              "      border-color: transparent;\n",
              "      border-right-color: var(--fill-color);\n",
              "      border-bottom-color: var(--fill-color);\n",
              "    }\n",
              "    90% {\n",
              "      border-color: transparent;\n",
              "      border-bottom-color: var(--fill-color);\n",
              "    }\n",
              "  }\n",
              "</style>\n",
              "\n",
              "  <script>\n",
              "    async function quickchart(key) {\n",
              "      const quickchartButtonEl =\n",
              "        document.querySelector('#' + key + ' button');\n",
              "      quickchartButtonEl.disabled = true;  // To prevent multiple clicks.\n",
              "      quickchartButtonEl.classList.add('colab-df-spinner');\n",
              "      try {\n",
              "        const charts = await google.colab.kernel.invokeFunction(\n",
              "            'suggestCharts', [key], {});\n",
              "      } catch (error) {\n",
              "        console.error('Error during call to suggestCharts:', error);\n",
              "      }\n",
              "      quickchartButtonEl.classList.remove('colab-df-spinner');\n",
              "      quickchartButtonEl.classList.add('colab-df-quickchart-complete');\n",
              "    }\n",
              "    (() => {\n",
              "      let quickchartButtonEl =\n",
              "        document.querySelector('#df-a04be7b3-9cb9-41a5-a358-d94dc05dc469 button');\n",
              "      quickchartButtonEl.style.display =\n",
              "        google.colab.kernel.accessAllowed ? 'block' : 'none';\n",
              "    })();\n",
              "  </script>\n",
              "</div>\n",
              "\n",
              "    </div>\n",
              "  </div>\n"
            ],
            "application/vnd.google.colaboratory.intrinsic+json": {
              "type": "dataframe",
              "summary": "{\n  \"name\": \"data\",\n  \"rows\": 8,\n  \"fields\": [\n    {\n      \"column\": \"Edad\",\n      \"properties\": {\n        \"dtype\": \"number\",\n        \"std\": 14547.915389437558,\n        \"min\": 10.421249980934048,\n        \"max\": 41188.0,\n        \"num_unique_values\": 8,\n        \"samples\": [\n          40.02406040594348,\n          38.0,\n          41188.0\n        ],\n        \"semantic_type\": \"\",\n        \"description\": \"\"\n      }\n    },\n    {\n      \"column\": \"SaldoMedioAnual\",\n      \"properties\": {\n        \"dtype\": \"number\",\n        \"std\": 14353.429834977824,\n        \"min\": 0.0,\n        \"max\": 41188.0,\n        \"num_unique_values\": 8,\n        \"samples\": [\n          258.2850101971448,\n          180.0,\n          41188.0\n        ],\n        \"semantic_type\": \"\",\n        \"description\": \"\"\n      }\n    }\n  ]\n}"
            }
          },
          "metadata": {},
          "execution_count": 3
        }
      ],
      "source": [
        "#Paso 1: Cargar y Explorar el Conjunto de Datos\n",
        "# Importar librerías necesarias\n",
        "import pandas as pd\n",
        "\n",
        "# Cargar el conjunto de datos desde la URL proporcionada\n",
        "url = 'https://docs.google.com/spreadsheets/d/1y20WzVlEMKBq_h8rnxzzlyLXEi3EXh0b/export?format=csv'\n",
        "data = pd.read_csv(url)\n",
        "\n",
        "# Mostrar las primeras filas del conjunto de datos para familiarizarnos con él\n",
        "data.head()\n",
        "\n",
        "# Resumen de las características del conjunto de datos\n",
        "data.info()\n",
        "\n",
        "# Estadísticas descriptivas básicas de todas las variables\n",
        "data.describe()\n",
        "\n"
      ]
    },
    {
      "cell_type": "code",
      "source": [
        "# Mostrar los nombres de las columnas\n",
        "print(\"Nombres de las columnas disponibles:\")\n",
        "print(data.columns)\n",
        "\n"
      ],
      "metadata": {
        "colab": {
          "base_uri": "https://localhost:8080/"
        },
        "id": "IVKRQBkjmbJM",
        "outputId": "fc582634-6cbd-42ce-c655-f2ed8bb4eee6"
      },
      "execution_count": 5,
      "outputs": [
        {
          "output_type": "stream",
          "name": "stdout",
          "text": [
            "Nombres de las columnas disponibles:\n",
            "Index(['Edad', 'Trabajo', 'EstadoCivil', 'Incumplimiento', 'Contacto', 'Mes',\n",
            "       'Dia', 'SaldoMedioAnual'],\n",
            "      dtype='object')\n"
          ]
        }
      ]
    },
    {
      "cell_type": "code",
      "source": [
        "#Paso 2: Análisis Descriptivo del Saldo Medio Anual\n",
        "# Calcular estadísticas descriptivas para el saldo medio anual\n",
        "saldo_mean = data['SaldoMedioAnual'].mean()\n",
        "saldo_median = data['SaldoMedioAnual'].median()\n",
        "saldo_mode = data['SaldoMedioAnual'].mode()[0]\n",
        "saldo_std = data['SaldoMedioAnual'].std()\n",
        "saldo_quartiles = data['SaldoMedioAnual'].quantile([0.25, 0.5, 0.75])\n",
        "\n",
        "# Mostrar las estadísticas calculadas\n",
        "print(f\"Media: {saldo_mean}\")\n",
        "print(f\"Mediana: {saldo_median}\")\n",
        "print(f\"Moda: {saldo_mode}\")\n",
        "print(f\"Desviación Estándar: {saldo_std}\")\n",
        "print(f\"Cuartiles: {saldo_quartiles}\")\n",
        "\n",
        "# Visualización de la distribución del saldo medio anual\n",
        "import matplotlib.pyplot as plt\n",
        "import seaborn as sns\n",
        "\n",
        "# Histograma del saldo medio anual\n",
        "plt.figure(figsize=(10, 6))\n",
        "sns.histplot(data['SaldoMedioAnual'], kde=True, bins=30)\n",
        "plt.title('Distribución del Saldo Medio Anual')\n",
        "plt.xlabel('Saldo Medio Anual')\n",
        "plt.ylabel('Frecuencia')\n",
        "plt.show()\n",
        "\n",
        "# Boxplot del saldo medio anual\n",
        "plt.figure(figsize=(10, 6))\n",
        "sns.boxplot(x=data['SaldoMedioAnual'])\n",
        "plt.title('Boxplot del Saldo Medio Anual')\n",
        "plt.xlabel('Saldo Medio Anual')\n",
        "plt.show()\n",
        "\n",
        "\n"
      ],
      "metadata": {
        "colab": {
          "base_uri": "https://localhost:8080/",
          "height": 1000
        },
        "id": "fG88RDXXnHZm",
        "outputId": "928e935b-84bb-4ae0-d7a9-1ff62012b40f"
      },
      "execution_count": 11,
      "outputs": [
        {
          "output_type": "stream",
          "name": "stdout",
          "text": [
            "Media: 258.2850101971448\n",
            "Mediana: 180.0\n",
            "Moda: 85\n",
            "Desviación Estándar: 259.27924883646483\n",
            "Cuartiles: 0.25    102.0\n",
            "0.50    180.0\n",
            "0.75    319.0\n",
            "Name: SaldoMedioAnual, dtype: float64\n"
          ]
        },
        {
          "output_type": "display_data",
          "data": {
            "text/plain": [
              "<Figure size 1000x600 with 1 Axes>"
            ],
            "image/png": "[encoded data removed]"
          },
          "metadata": {}
        },
        {
          "output_type": "display_data",
          "data": {
            "text/plain": [
              "<Figure size 1000x600 with 1 Axes>"
            ],
            "image/png": "[encoded data removed]"
          },
          "metadata": {}
        }
      ]
    },
    {
      "cell_type": "code",
      "source": [
        "#Paso 3: Validación de Argumentaciones\n",
        "#Para cada una de las argumentaciones proporcionadas, realizaremos análisis específicos para evaluar su validez.\n",
        "\n",
        "#1) El 32% de la muestra superan los 53 años.\n",
        "\n",
        "# Calcular el porcentaje de personas que superan los 53 años\n",
        "porcentaje_mayores_53 = (data[data['Edad'] > 53].shape[0] / data.shape[0]) * 100\n",
        "print(f\"Porcentaje de personas que superan los 53 años: {porcentaje_mayores_53:.2f}%\")\n",
        "print(f\"Cantidad de personas que superan los 53 años: {data[data['Edad'] > 53].shape[0]}\")\n"
      ],
      "metadata": {
        "colab": {
          "base_uri": "https://localhost:8080/"
        },
        "id": "wHWOqbVNnw8A",
        "outputId": "f1591d5c-48a9-47c7-d3fa-bac33f929fbd"
      },
      "execution_count": 26,
      "outputs": [
        {
          "output_type": "stream",
          "name": "stdout",
          "text": [
            "Porcentaje de personas que superan los 53 años: 11.93%\n",
            "Cantidad de personas que superan los 53 años: 4914\n"
          ]
        }
      ]
    },
    {
      "cell_type": "code",
      "source": [
        "#2) La mayoría de las personas de la muestra son emprendedores.\n",
        "\n",
        "# Calcular la frecuencia de cada tipo de trabajo\n",
        "trabajos_frecuencia = data['Trabajo'].value_counts()\n",
        "trabajo_mas_comun = trabajos_frecuencia.idxmax()\n",
        "print(f\"El trabajo más común es: {trabajo_mas_comun}\")\n",
        "print(trabajos_frecuencia)\n"
      ],
      "metadata": {
        "colab": {
          "base_uri": "https://localhost:8080/"
        },
        "id": "PU0vhdzFogAj",
        "outputId": "ca180464-43ea-442b-911c-0eb773faff3e"
      },
      "execution_count": 25,
      "outputs": [
        {
          "output_type": "stream",
          "name": "stdout",
          "text": [
            "El trabajo más común es: Administrativo\n",
            "Trabajo\n",
            "Administrativo    10422\n",
            "Operario           9254\n",
            "Tecnico            6743\n",
            "Servicios          3969\n",
            "Gerente            2924\n",
            "Jubilado           1721\n",
            "Emprendedor        1456\n",
            "AutoNomo           1421\n",
            "Niñera             1059\n",
            "Desempleado        1014\n",
            "Estudiante          875\n",
            "DescoNocido         330\n",
            "Name: count, dtype: int64\n"
          ]
        }
      ]
    },
    {
      "cell_type": "code",
      "source": [
        "# 3)En la muestra las personas casadas superan en un 15% a las personas solteras.\n",
        "\n",
        "# Calcular la diferencia porcentual entre personas casadas y solteras\n",
        "porcentaje_casados = (data[data['EstadoCivil'] == 'Casado'].shape[0] / data.shape[0]) * 100\n",
        "porcentaje_solteros = (data[data['EstadoCivil'] == 'Soltero'].shape[0] / data.shape[0]) * 100\n",
        "diferencia_porcentual = porcentaje_casados - porcentaje_solteros\n",
        "print(f\"Diferencia porcentual entre casados y solteros: {diferencia_porcentual:.2f}%\")\n",
        "print(f\"Porcentaje Casados: {porcentaje_casados:.2f}%\")\n",
        "print(f\"Porcentaje Solteros: {porcentaje_solteros:.2f}%\")\n",
        "\n"
      ],
      "metadata": {
        "colab": {
          "base_uri": "https://localhost:8080/"
        },
        "id": "dzOOT7eEo74j",
        "outputId": "5d46437a-1184-4b19-cd10-e493ffec4095"
      },
      "execution_count": 21,
      "outputs": [
        {
          "output_type": "stream",
          "name": "stdout",
          "text": [
            "Diferencia porcentual entre casados y solteros: 32.44%\n",
            "Porcentaje Casados: 60.52%\n",
            "Porcentaje Solteros: 28.09%\n"
          ]
        }
      ]
    },
    {
      "cell_type": "code",
      "source": [
        "# 4) El promedio de edad de la muestra es de 47 años.\n",
        "\n",
        "# Calcular el promedio de edad\n",
        "promedio_edad = data['Edad'].mean()\n",
        "print(f\"Promedio de Edad: {promedio_edad:.2f} años\")\n",
        "\n",
        "\n"
      ],
      "metadata": {
        "colab": {
          "base_uri": "https://localhost:8080/"
        },
        "id": "suExqj7DqTpE",
        "outputId": "182cd51d-0e29-4307-c754-215c2edc67f1"
      },
      "execution_count": 24,
      "outputs": [
        {
          "output_type": "stream",
          "name": "stdout",
          "text": [
            "Promedio de Edad: 40.02 años\n",
            "Media de edad: 40.02 años\n"
          ]
        }
      ]
    },
    {
      "cell_type": "code",
      "source": [
        "# 5) El medio de comunicación más elegido es el celular.\n",
        "\n",
        "# Calcular la frecuencia de cada medio de comunicación\n",
        "medios_frecuencia = data['Contacto'].value_counts()\n",
        "medio_mas_comun = medios_frecuencia.idxmax()\n",
        "print(f\"El medio de comunicación más común es: {medio_mas_comun}\")\n",
        "print(medios_frecuencia)\n",
        "\n",
        "# Graficar la frecuencia de cada medio de comunicación\n",
        "medios_frecuencia.plot(kind='bar')\n",
        "plt.title('Frecuencia de cada medio de comunicación')\n",
        "plt.xlabel('Medio de comunicación')\n",
        "plt.ylabel('Frecuencia')\n",
        "plt.show\n"
      ],
      "metadata": {
        "colab": {
          "base_uri": "https://localhost:8080/",
          "height": 772
        },
        "id": "tduGJ1vJrWwF",
        "outputId": "180632f4-030f-446e-8489-0bd14dbccc58"
      },
      "execution_count": 33,
      "outputs": [
        {
          "output_type": "stream",
          "name": "stdout",
          "text": [
            "El medio de comunicación más común es: Celular\n",
            "Contacto\n",
            "Celular     26144\n",
            "Telefono    15044\n",
            "Name: count, dtype: int64\n"
          ]
        },
        {
          "output_type": "execute_result",
          "data": {
            "text/plain": [
              "<function matplotlib.pyplot.show(close=None, block=None)>"
            ],
            "text/html": [
              "<div style=\"max-width:800px; border: 1px solid var(--colab-border-color);\"><style>\n",
              "      pre.function-repr-contents {\n",
              "        overflow-x: auto;\n",
              "        padding: 8px 12px;\n",
              "        max-height: 500px;\n",
              "      }\n",
              "\n",
              "      pre.function-repr-contents.function-repr-contents-collapsed {\n",
              "        cursor: pointer;\n",
              "        max-height: 100px;\n",
              "      }\n",
              "    </style>\n",
              "    <pre style=\"white-space: initial; background:\n",
              "         var(--colab-secondary-surface-color); padding: 8px 12px;\n",
              "         border-bottom: 1px solid var(--colab-border-color);\"><b>matplotlib.pyplot.show</b><br/>def show(*args, **kwargs)</pre><pre class=\"function-repr-contents function-repr-contents-collapsed\" style=\"\"><a class=\"filepath\" style=\"display:none\" href=\"#\">/usr/local/lib/python3.10/dist-packages/matplotlib/pyplot.py</a>Display all open figures.\n",
              "\n",
              "Parameters\n",
              "----------\n",
              "block : bool, optional\n",
              "    Whether to wait for all figures to be closed before returning.\n",
              "\n",
              "    If `True` block and run the GUI main loop until all figure windows\n",
              "    are closed.\n",
              "\n",
              "    If `False` ensure that all figure windows are displayed and return\n",
              "    immediately.  In this case, you are responsible for ensuring\n",
              "    that the event loop is running to have responsive figures.\n",
              "\n",
              "    Defaults to True in non-interactive mode and to False in interactive\n",
              "    mode (see `.pyplot.isinteractive`).\n",
              "\n",
              "See Also\n",
              "--------\n",
              "ion : Enable interactive mode, which shows / updates the figure after\n",
              "      every plotting command, so that calling ``show()`` is not necessary.\n",
              "ioff : Disable interactive mode.\n",
              "savefig : Save the figure to an image file instead of showing it on screen.\n",
              "\n",
              "Notes\n",
              "-----\n",
              "**Saving figures to file and showing a window at the same time**\n",
              "\n",
              "If you want an image file as well as a user interface window, use\n",
              "`.pyplot.savefig` before `.pyplot.show`. At the end of (a blocking)\n",
              "``show()`` the figure is closed and thus unregistered from pyplot. Calling\n",
              "`.pyplot.savefig` afterwards would save a new and thus empty figure. This\n",
              "limitation of command order does not apply if the show is non-blocking or\n",
              "if you keep a reference to the figure and use `.Figure.savefig`.\n",
              "\n",
              "**Auto-show in jupyter notebooks**\n",
              "\n",
              "The jupyter backends (activated via ``%matplotlib inline``,\n",
              "``%matplotlib notebook``, or ``%matplotlib widget``), call ``show()`` at\n",
              "the end of every cell by default. Thus, you usually don&#x27;t have to call it\n",
              "explicitly there.</pre>\n",
              "      <script>\n",
              "      if (google.colab.kernel.accessAllowed && google.colab.files && google.colab.files.view) {\n",
              "        for (const element of document.querySelectorAll('.filepath')) {\n",
              "          element.style.display = 'block'\n",
              "          element.onclick = (event) => {\n",
              "            event.preventDefault();\n",
              "            event.stopPropagation();\n",
              "            google.colab.files.view(element.textContent, 401);\n",
              "          };\n",
              "        }\n",
              "      }\n",
              "      for (const element of document.querySelectorAll('.function-repr-contents')) {\n",
              "        element.onclick = (event) => {\n",
              "          event.preventDefault();\n",
              "          event.stopPropagation();\n",
              "          element.classList.toggle('function-repr-contents-collapsed');\n",
              "        };\n",
              "      }\n",
              "      </script>\n",
              "      </div>"
            ]
          },
          "metadata": {},
          "execution_count": 33
        },
        {
          "output_type": "display_data",
          "data": {
            "text/plain": [
              "<Figure size 640x480 with 1 Axes>"
            ],
            "image/png": "[encoded data removed]"
          },
          "metadata": {}
        }
      ]
    },
    {
      "cell_type": "code",
      "source": [
        "# 6) Los tres primeros meses con mayor frecuencia son Junio, Abril y Septiembre.\n",
        "\n",
        "# Calcular la frecuencia de cada mes\n",
        "meses_frecuencia = data['Mes'].value_counts()\n",
        "meses_frecuencia = meses_frecuencia.sort_index()\n",
        "print(meses_frecuencia)\n",
        "\n",
        "# Graficar la frecuencia de cada mes\n",
        "meses_frecuencia.plot(kind='bar')\n",
        "plt.title('Frecuencia de cada mes')\n",
        "plt.xlabel('Mes')\n",
        "plt.ylabel('Frecuencia')\n",
        "plt.show\n",
        "\n",
        "#"
      ],
      "metadata": {
        "colab": {
          "base_uri": "https://localhost:8080/",
          "height": 916
        },
        "id": "n_69Kl18rYfX",
        "outputId": "445a9eea-4907-4d99-99be-866e9d33140c"
      },
      "execution_count": 35,
      "outputs": [
        {
          "output_type": "stream",
          "name": "stdout",
          "text": [
            "Mes\n",
            "Abril          2632\n",
            "Agosto         6178\n",
            "Diciembre       182\n",
            "Julio          7174\n",
            "Junio          5318\n",
            "Marzo           546\n",
            "Mayo          13769\n",
            "Noviembre      4101\n",
            "Octubre         718\n",
            "Septiembre      570\n",
            "Name: count, dtype: int64\n"
          ]
        },
        {
          "output_type": "execute_result",
          "data": {
            "text/plain": [
              "<function matplotlib.pyplot.show(close=None, block=None)>"
            ],
            "text/html": [
              "<div style=\"max-width:800px; border: 1px solid var(--colab-border-color);\"><style>\n",
              "      pre.function-repr-contents {\n",
              "        overflow-x: auto;\n",
              "        padding: 8px 12px;\n",
              "        max-height: 500px;\n",
              "      }\n",
              "\n",
              "      pre.function-repr-contents.function-repr-contents-collapsed {\n",
              "        cursor: pointer;\n",
              "        max-height: 100px;\n",
              "      }\n",
              "    </style>\n",
              "    <pre style=\"white-space: initial; background:\n",
              "         var(--colab-secondary-surface-color); padding: 8px 12px;\n",
              "         border-bottom: 1px solid var(--colab-border-color);\"><b>matplotlib.pyplot.show</b><br/>def show(*args, **kwargs)</pre><pre class=\"function-repr-contents function-repr-contents-collapsed\" style=\"\"><a class=\"filepath\" style=\"display:none\" href=\"#\">/usr/local/lib/python3.10/dist-packages/matplotlib/pyplot.py</a>Display all open figures.\n",
              "\n",
              "Parameters\n",
              "----------\n",
              "block : bool, optional\n",
              "    Whether to wait for all figures to be closed before returning.\n",
              "\n",
              "    If `True` block and run the GUI main loop until all figure windows\n",
              "    are closed.\n",
              "\n",
              "    If `False` ensure that all figure windows are displayed and return\n",
              "    immediately.  In this case, you are responsible for ensuring\n",
              "    that the event loop is running to have responsive figures.\n",
              "\n",
              "    Defaults to True in non-interactive mode and to False in interactive\n",
              "    mode (see `.pyplot.isinteractive`).\n",
              "\n",
              "See Also\n",
              "--------\n",
              "ion : Enable interactive mode, which shows / updates the figure after\n",
              "      every plotting command, so that calling ``show()`` is not necessary.\n",
              "ioff : Disable interactive mode.\n",
              "savefig : Save the figure to an image file instead of showing it on screen.\n",
              "\n",
              "Notes\n",
              "-----\n",
              "**Saving figures to file and showing a window at the same time**\n",
              "\n",
              "If you want an image file as well as a user interface window, use\n",
              "`.pyplot.savefig` before `.pyplot.show`. At the end of (a blocking)\n",
              "``show()`` the figure is closed and thus unregistered from pyplot. Calling\n",
              "`.pyplot.savefig` afterwards would save a new and thus empty figure. This\n",
              "limitation of command order does not apply if the show is non-blocking or\n",
              "if you keep a reference to the figure and use `.Figure.savefig`.\n",
              "\n",
              "**Auto-show in jupyter notebooks**\n",
              "\n",
              "The jupyter backends (activated via ``%matplotlib inline``,\n",
              "``%matplotlib notebook``, or ``%matplotlib widget``), call ``show()`` at\n",
              "the end of every cell by default. Thus, you usually don&#x27;t have to call it\n",
              "explicitly there.</pre>\n",
              "      <script>\n",
              "      if (google.colab.kernel.accessAllowed && google.colab.files && google.colab.files.view) {\n",
              "        for (const element of document.querySelectorAll('.filepath')) {\n",
              "          element.style.display = 'block'\n",
              "          element.onclick = (event) => {\n",
              "            event.preventDefault();\n",
              "            event.stopPropagation();\n",
              "            google.colab.files.view(element.textContent, 401);\n",
              "          };\n",
              "        }\n",
              "      }\n",
              "      for (const element of document.querySelectorAll('.function-repr-contents')) {\n",
              "        element.onclick = (event) => {\n",
              "          event.preventDefault();\n",
              "          event.stopPropagation();\n",
              "          element.classList.toggle('function-repr-contents-collapsed');\n",
              "        };\n",
              "      }\n",
              "      </script>\n",
              "      </div>"
            ]
          },
          "metadata": {},
          "execution_count": 35
        },
        {
          "output_type": "display_data",
          "data": {
            "text/plain": [
              "<Figure size 640x480 with 1 Axes>"
            ],
            "image/png": "[encoded data removed]"
          },
          "metadata": {}
        }
      ]
    },
    {
      "cell_type": "code",
      "source": [
        "# 7) El rango central de edades se encuentra entre los 22 y los 57 años.\n",
        "\n",
        "# Calcular el rango de edades\n",
        "rango_edades = data['Edad'].max() - data['Edad'].min()\n",
        "print(f\"Rango de Edades: {rango_edades} años\")\n",
        "\n",
        "# Calcular el promedio de edades\n",
        "promedio_edades = data['Edad'].mean()\n",
        "print(f\"Promedio de Edades: {promedio_edades:.2f}\")\n",
        "\n",
        "#"
      ],
      "metadata": {
        "colab": {
          "base_uri": "https://localhost:8080/"
        },
        "id": "mNyb76WIsB6R",
        "outputId": "092e184e-4b1d-43b2-a003-b51588323b0e"
      },
      "execution_count": 36,
      "outputs": [
        {
          "output_type": "stream",
          "name": "stdout",
          "text": [
            "Rango de Edades: 81 años\n",
            "Promedio de Edades: 40.02\n"
          ]
        }
      ]
    },
    {
      "cell_type": "code",
      "source": [
        "# 8) El día con mayor ocurrencia de transacciones es el día miércoles.\n",
        "\n",
        "# Calcular la frecuencia de cada día de la semana\n",
        "dias_frecuencia = data['Dia'].value_counts()\n",
        "dias_frecuencia = dias_frecuencia.sort_index()\n",
        "print(dias_frecuencia)\n",
        "\n",
        "# Graficar la frecuencia de cada día de la semana\n",
        "dias_frecuencia.plot(kind='bar')\n",
        "plt.title('Frecuencia de cada día de la semana')\n",
        "plt.xlabel('Día de la Semana')\n",
        "plt.ylabel('Frecuencia')\n",
        "plt.show\n",
        "\n",
        "#\n",
        "# Calcular la frecuencia de contactos por día de la semana\n",
        "dias_frecuencia = data['Dia'].value_counts()\n",
        "dia_mas_comun = dias_frecuencia.idxmax()\n",
        "print(f\"El día con mayor frecuencia de transacciones es: {dia_mas_comun}\")\n"
      ],
      "metadata": {
        "colab": {
          "base_uri": "https://localhost:8080/",
          "height": 662
        },
        "id": "Hz1e5lkwsRJj",
        "outputId": "3aec1518-1495-4a4c-92a4-2d359d7b0d6f"
      },
      "execution_count": 38,
      "outputs": [
        {
          "output_type": "stream",
          "name": "stdout",
          "text": [
            "Dia\n",
            "Jueves       8623\n",
            "Lunes        8514\n",
            "Martes       8090\n",
            "Miercoles    8134\n",
            "Viernes      7827\n",
            "Name: count, dtype: int64\n",
            "El día con mayor frecuencia de transacciones es: Jueves\n"
          ]
        },
        {
          "output_type": "display_data",
          "data": {
            "text/plain": [
              "<Figure size 640x480 with 1 Axes>"
            ],
            "image/png": "[encoded data removed]"
          },
          "metadata": {}
        }
      ]
    },
    {
      "cell_type": "code",
      "source": [
        "\n",
        "# 9) Lo más común es que los clientes cumplan.\n",
        "\n",
        "# Calcular la frecuencia de cumplimiento\n",
        "cumplimiento_frecuencia = data['Incumplimiento'].value_counts()\n",
        "cumplimiento_mas_comun = cumplimiento_frecuencia.idxmax()\n",
        "print(f\"Lo más común entre los clientes es: {cumplimiento_mas_comun}\")\n",
        "print(cumplimiento_frecuencia)\n",
        "\n",
        "# Graficar la frecuencia de cumplimiento\n",
        "cumplimiento_frecuencia.plot(kind='bar')\n",
        "plt.title('Frecuencia de cumplimiento')\n",
        "plt.xlabel('Cumplimiento')\n",
        "plt.ylabel('Frecuencia')\n",
        "plt.show\n"
      ],
      "metadata": {
        "colab": {
          "base_uri": "https://localhost:8080/",
          "height": 820
        },
        "id": "kSd3c8zssp8s",
        "outputId": "56345d34-cc4b-4383-d5c5-3be7db838454"
      },
      "execution_count": 40,
      "outputs": [
        {
          "output_type": "stream",
          "name": "stdout",
          "text": [
            "Lo más común entre los clientes es: No\n",
            "Incumplimiento\n",
            "No             32588\n",
            "Desconocido     8597\n",
            "Si                 3\n",
            "Name: count, dtype: int64\n"
          ]
        },
        {
          "output_type": "execute_result",
          "data": {
            "text/plain": [
              "<function matplotlib.pyplot.show(close=None, block=None)>"
            ],
            "text/html": [
              "<div style=\"max-width:800px; border: 1px solid var(--colab-border-color);\"><style>\n",
              "      pre.function-repr-contents {\n",
              "        overflow-x: auto;\n",
              "        padding: 8px 12px;\n",
              "        max-height: 500px;\n",
              "      }\n",
              "\n",
              "      pre.function-repr-contents.function-repr-contents-collapsed {\n",
              "        cursor: pointer;\n",
              "        max-height: 100px;\n",
              "      }\n",
              "    </style>\n",
              "    <pre style=\"white-space: initial; background:\n",
              "         var(--colab-secondary-surface-color); padding: 8px 12px;\n",
              "         border-bottom: 1px solid var(--colab-border-color);\"><b>matplotlib.pyplot.show</b><br/>def show(*args, **kwargs)</pre><pre class=\"function-repr-contents function-repr-contents-collapsed\" style=\"\"><a class=\"filepath\" style=\"display:none\" href=\"#\">/usr/local/lib/python3.10/dist-packages/matplotlib/pyplot.py</a>Display all open figures.\n",
              "\n",
              "Parameters\n",
              "----------\n",
              "block : bool, optional\n",
              "    Whether to wait for all figures to be closed before returning.\n",
              "\n",
              "    If `True` block and run the GUI main loop until all figure windows\n",
              "    are closed.\n",
              "\n",
              "    If `False` ensure that all figure windows are displayed and return\n",
              "    immediately.  In this case, you are responsible for ensuring\n",
              "    that the event loop is running to have responsive figures.\n",
              "\n",
              "    Defaults to True in non-interactive mode and to False in interactive\n",
              "    mode (see `.pyplot.isinteractive`).\n",
              "\n",
              "See Also\n",
              "--------\n",
              "ion : Enable interactive mode, which shows / updates the figure after\n",
              "      every plotting command, so that calling ``show()`` is not necessary.\n",
              "ioff : Disable interactive mode.\n",
              "savefig : Save the figure to an image file instead of showing it on screen.\n",
              "\n",
              "Notes\n",
              "-----\n",
              "**Saving figures to file and showing a window at the same time**\n",
              "\n",
              "If you want an image file as well as a user interface window, use\n",
              "`.pyplot.savefig` before `.pyplot.show`. At the end of (a blocking)\n",
              "``show()`` the figure is closed and thus unregistered from pyplot. Calling\n",
              "`.pyplot.savefig` afterwards would save a new and thus empty figure. This\n",
              "limitation of command order does not apply if the show is non-blocking or\n",
              "if you keep a reference to the figure and use `.Figure.savefig`.\n",
              "\n",
              "**Auto-show in jupyter notebooks**\n",
              "\n",
              "The jupyter backends (activated via ``%matplotlib inline``,\n",
              "``%matplotlib notebook``, or ``%matplotlib widget``), call ``show()`` at\n",
              "the end of every cell by default. Thus, you usually don&#x27;t have to call it\n",
              "explicitly there.</pre>\n",
              "      <script>\n",
              "      if (google.colab.kernel.accessAllowed && google.colab.files && google.colab.files.view) {\n",
              "        for (const element of document.querySelectorAll('.filepath')) {\n",
              "          element.style.display = 'block'\n",
              "          element.onclick = (event) => {\n",
              "            event.preventDefault();\n",
              "            event.stopPropagation();\n",
              "            google.colab.files.view(element.textContent, 401);\n",
              "          };\n",
              "        }\n",
              "      }\n",
              "      for (const element of document.querySelectorAll('.function-repr-contents')) {\n",
              "        element.onclick = (event) => {\n",
              "          event.preventDefault();\n",
              "          event.stopPropagation();\n",
              "          element.classList.toggle('function-repr-contents-collapsed');\n",
              "        };\n",
              "      }\n",
              "      </script>\n",
              "      </div>"
            ]
          },
          "metadata": {},
          "execution_count": 40
        },
        {
          "output_type": "display_data",
          "data": {
            "text/plain": [
              "<Figure size 640x480 with 1 Axes>"
            ],
            "image/png": "[encoded data removed]"
          },
          "metadata": {}
        }
      ]
    },
    {
      "cell_type": "code",
      "source": [
        "# 10) Sólo el 5% de las personas de la muestra no declararon su estado civil.\n",
        "\n",
        "# Calcular el porcentaje de personas que no declararon su estado civil\n",
        "porcentaje_no_declarado = (data[data['EstadoCivil'].isnull()].shape[0] / data.shape[0]) * 100\n",
        "print(f\"Porcentaje de personas que no declararon su estado civil: {porcentaje_no_declarado:.2f}%\")\n",
        "#\n",
        "\n"
      ],
      "metadata": {
        "colab": {
          "base_uri": "https://localhost:8080/"
        },
        "id": "jQW0EidItj_L",
        "outputId": "830b7f9d-0678-423a-f453-a8b9bfebbb2e"
      },
      "execution_count": 43,
      "outputs": [
        {
          "output_type": "stream",
          "name": "stdout",
          "text": [
            "Porcentaje de personas que no declararon su estado civil: 0.00%\n"
          ]
        }
      ]
    },
    {
      "cell_type": "markdown",
      "source": [],
      "metadata": {
        "id": "nUvEfp0auHEM"
      }
    }
  ]
}